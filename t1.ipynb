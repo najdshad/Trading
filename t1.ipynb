{
 "cells": [
  {
   "cell_type": "code",
   "execution_count": 2,
   "metadata": {},
   "outputs": [],
   "source": [
    "import vectorbt as vbt\n",
    "import pandas as pd\n",
    "import numpy as np\n",
    "from numba import njit"
   ]
  },
  {
   "cell_type": "markdown",
   "metadata": {},
   "source": [
    "Standardize Data"
   ]
  },
  {
   "cell_type": "code",
   "execution_count": 31,
   "metadata": {},
   "outputs": [
    {
     "name": "stderr",
     "output_type": "stream",
     "text": [
      "C:\\Users\\najdu\\AppData\\Local\\Temp\\ipykernel_16336\\4121226758.py:1: FutureWarning: The 'delim_whitespace' keyword in pd.read_csv is deprecated and will be removed in a future version. Use ``sep='\\s+'`` instead\n",
      "  df = pd.read_csv(\"Daily_201404180000_202503130000.csv\",\n"
     ]
    },
    {
     "data": {
      "application/vnd.microsoft.datawrangler.viewer.v0+json": {
       "columns": [
        {
         "name": "date",
         "rawType": "datetime64[ns]",
         "type": "datetime"
        },
        {
         "name": "open",
         "rawType": "float64",
         "type": "float"
        },
        {
         "name": "high",
         "rawType": "float64",
         "type": "float"
        },
        {
         "name": "low",
         "rawType": "float64",
         "type": "float"
        },
        {
         "name": "close",
         "rawType": "float64",
         "type": "float"
        },
        {
         "name": "vol",
         "rawType": "int64",
         "type": "integer"
        },
        {
         "name": "spread",
         "rawType": "int64",
         "type": "integer"
        }
       ],
       "conversionMethod": "pd.DataFrame",
       "ref": "e61e5ea0-0384-4978-bfd2-5623c635a41f",
       "rows": [
        [
         "2014-04-18 00:00:00",
         "1294.39",
         "1295.1",
         "1294.3",
         "1295.02",
         "16",
         "0"
        ],
        [
         "2014-04-21 00:00:00",
         "1293.8",
         "1301.28",
         "1281.7",
         "1289.41",
         "197994",
         "0"
        ],
        [
         "2014-04-22 00:00:00",
         "1289.13",
         "1292.8",
         "1275.24",
         "1283.41",
         "139295",
         "0"
        ],
        [
         "2014-04-23 00:00:00",
         "1282.81",
         "1288.99",
         "1280.76",
         "1283.36",
         "120743",
         "0"
        ],
        [
         "2014-04-24 00:00:00",
         "1282.79",
         "1298.58",
         "1268.24",
         "1292.8",
         "221710",
         "0"
        ]
       ],
       "shape": {
        "columns": 6,
        "rows": 5
       }
      },
      "text/html": [
       "<div>\n",
       "<style scoped>\n",
       "    .dataframe tbody tr th:only-of-type {\n",
       "        vertical-align: middle;\n",
       "    }\n",
       "\n",
       "    .dataframe tbody tr th {\n",
       "        vertical-align: top;\n",
       "    }\n",
       "\n",
       "    .dataframe thead th {\n",
       "        text-align: right;\n",
       "    }\n",
       "</style>\n",
       "<table border=\"1\" class=\"dataframe\">\n",
       "  <thead>\n",
       "    <tr style=\"text-align: right;\">\n",
       "      <th></th>\n",
       "      <th>open</th>\n",
       "      <th>high</th>\n",
       "      <th>low</th>\n",
       "      <th>close</th>\n",
       "      <th>vol</th>\n",
       "      <th>spread</th>\n",
       "    </tr>\n",
       "    <tr>\n",
       "      <th>date</th>\n",
       "      <th></th>\n",
       "      <th></th>\n",
       "      <th></th>\n",
       "      <th></th>\n",
       "      <th></th>\n",
       "      <th></th>\n",
       "    </tr>\n",
       "  </thead>\n",
       "  <tbody>\n",
       "    <tr>\n",
       "      <th>2014-04-18</th>\n",
       "      <td>1294.39</td>\n",
       "      <td>1295.10</td>\n",
       "      <td>1294.30</td>\n",
       "      <td>1295.02</td>\n",
       "      <td>16</td>\n",
       "      <td>0</td>\n",
       "    </tr>\n",
       "    <tr>\n",
       "      <th>2014-04-21</th>\n",
       "      <td>1293.80</td>\n",
       "      <td>1301.28</td>\n",
       "      <td>1281.70</td>\n",
       "      <td>1289.41</td>\n",
       "      <td>197994</td>\n",
       "      <td>0</td>\n",
       "    </tr>\n",
       "    <tr>\n",
       "      <th>2014-04-22</th>\n",
       "      <td>1289.13</td>\n",
       "      <td>1292.80</td>\n",
       "      <td>1275.24</td>\n",
       "      <td>1283.41</td>\n",
       "      <td>139295</td>\n",
       "      <td>0</td>\n",
       "    </tr>\n",
       "    <tr>\n",
       "      <th>2014-04-23</th>\n",
       "      <td>1282.81</td>\n",
       "      <td>1288.99</td>\n",
       "      <td>1280.76</td>\n",
       "      <td>1283.36</td>\n",
       "      <td>120743</td>\n",
       "      <td>0</td>\n",
       "    </tr>\n",
       "    <tr>\n",
       "      <th>2014-04-24</th>\n",
       "      <td>1282.79</td>\n",
       "      <td>1298.58</td>\n",
       "      <td>1268.24</td>\n",
       "      <td>1292.80</td>\n",
       "      <td>221710</td>\n",
       "      <td>0</td>\n",
       "    </tr>\n",
       "  </tbody>\n",
       "</table>\n",
       "</div>"
      ],
      "text/plain": [
       "               open     high      low    close     vol  spread\n",
       "date                                                          \n",
       "2014-04-18  1294.39  1295.10  1294.30  1295.02      16       0\n",
       "2014-04-21  1293.80  1301.28  1281.70  1289.41  197994       0\n",
       "2014-04-22  1289.13  1292.80  1275.24  1283.41  139295       0\n",
       "2014-04-23  1282.81  1288.99  1280.76  1283.36  120743       0\n",
       "2014-04-24  1282.79  1298.58  1268.24  1292.80  221710       0"
      ]
     },
     "execution_count": 31,
     "metadata": {},
     "output_type": "execute_result"
    }
   ],
   "source": [
    "df = pd.read_csv(\"Daily_201404180000_202503130000.csv\",\n",
    "                delim_whitespace=True,\n",
    "                 names=['date', 'open', 'high', 'low', 'close', 'vol', 'del', 'spread'],\n",
    "                 header=0)\n",
    "df[\"date\"] = pd.to_datetime(df[\"date\"])\n",
    "df.drop(columns=\"del\", inplace=True)\n",
    "df.set_index(\"date\", inplace=True)\n",
    "df.sort_index(inplace=True)\n",
    "df.dropna(inplace=True)\n",
    "\n",
    "column_to_convert = ['open', 'high', 'low', 'close', 'vol', 'spread']\n",
    "df[column_to_convert] = df[column_to_convert].apply(pd.to_numeric, errors='coerce')\n",
    "df.head()"
   ]
  }
 ],
 "metadata": {
  "kernelspec": {
   "display_name": "Python 3",
   "language": "python",
   "name": "python3"
  },
  "language_info": {
   "codemirror_mode": {
    "name": "ipython",
    "version": 3
   },
   "file_extension": ".py",
   "mimetype": "text/x-python",
   "name": "python",
   "nbconvert_exporter": "python",
   "pygments_lexer": "ipython3",
   "version": "3.13.2"
  }
 },
 "nbformat": 4,
 "nbformat_minor": 2
}
