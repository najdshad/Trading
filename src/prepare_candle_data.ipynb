{
 "cells": [
  {
   "cell_type": "code",
   "execution_count": 2,
   "metadata": {},
   "outputs": [],
   "source": [
    "import os\n",
    "import pandas as pd\n",
    "import numpy as np"
   ]
  },
  {
   "cell_type": "markdown",
   "metadata": {},
   "source": [
    "1-1. Standardize MT5 Data"
   ]
  },
  {
   "cell_type": "code",
   "execution_count": null,
   "metadata": {},
   "outputs": [
    {
     "name": "stdout",
     "output_type": "stream",
     "text": [
      "Processed and saved: Daily_201708100000_202503140000.csv\n",
      "Processed and saved: H1_201708100000_202503142200.csv\n",
      "Processed and saved: H4_201708100000_202503142000.csv\n",
      "Processed and saved: M15_202012161445_202503131615.csv\n",
      "Processed and saved: M2_202408190410_202503142258.csv\n",
      "Processed and saved: M5_202310121825_202503142255.csv\n"
     ]
    }
   ],
   "source": [
    "def fix_data(folder_path, fixed_path):\n",
    "    # Define the standard column names after dropping <VOL> and renaming <TICKVOL>\n",
    "    standard_columns = ['Datetime', 'Open', 'High', 'Low', 'Close', 'Vol', 'Spread']\n",
    "    \n",
    "    # Create the fixed folder if it doesn't exist\n",
    "    if not os.path.exists(fixed_path):\n",
    "        os.makedirs(fixed_path)\n",
    "    \n",
    "    # Loop through all files in the folder\n",
    "    for filename in os.listdir(folder_path):\n",
    "        if filename.endswith('.csv'):\n",
    "            file_path = os.path.join(folder_path, filename)\n",
    "            fixed_file_path = os.path.join(fixed_path, filename)\n",
    "            \n",
    "            # Read the CSV file\n",
    "            df = pd.read_csv(file_path, sep='\\t')  # Assuming tab-separated values\n",
    "            \n",
    "            # Drop the <VOL> column\n",
    "            df.drop(columns=['<VOL>'], inplace=True)\n",
    "            \n",
    "            # Rename <TICKVOL> to 'Vol'\n",
    "            df.rename(columns={'<TICKVOL>': 'Vol'}, inplace=True)\n",
    "            \n",
    "            # Check if the <TIME> column exists\n",
    "            if '<TIME>' in df.columns:\n",
    "                # Combine <DATE> and <TIME> into a single 'Datetime' column\n",
    "                df['Datetime'] = pd.to_datetime(df['<DATE>'] + ' ' + df['<TIME>'], format='%Y.%m.%d %H:%M:%S')\n",
    "                # Drop the original <DATE> and <TIME> columns\n",
    "                df.drop(columns=['<DATE>', '<TIME>'], inplace=True)\n",
    "            else:\n",
    "                # If no <TIME> column, just convert <DATE> to datetime\n",
    "                df['Datetime'] = pd.to_datetime(df['<DATE>'], format='%Y.%m.%d')\n",
    "                # Drop the original <DATE> column\n",
    "                df.drop(columns=['<DATE>'], inplace=True)\n",
    "            \n",
    "            # Reorder columns to ensure 'Datetime' is the first column\n",
    "            df = df[['Datetime'] + [col for col in df.columns if col != 'Datetime']]\n",
    "            df['Datetime'].to_date\n",
    "            \n",
    "            # Rename other columns to standard names\n",
    "            df.columns = standard_columns\n",
    "            \n",
    "            # Save the corrected DataFrame to the fixed folder\n",
    "            df.to_csv(fixed_file_path, index=False)\n",
    "            \n",
    "            print(f\"Processed and saved: {filename}\")\n",
    "\n",
    "# Example usage\n",
    "folder_path = '../data/mt5'\n",
    "fixed_path = '../data/gold'\n",
    "fix_data(folder_path, fixed_path)"
   ]
  },
  {
   "cell_type": "markdown",
   "metadata": {},
   "source": [
    "1-2. Add Features"
   ]
  },
  {
   "cell_type": "code",
   "execution_count": 5,
   "metadata": {},
   "outputs": [],
   "source": [
    "def calculate_atr(df, period=14):\n",
    "    \"\"\"Calculate the Average True Range (ATR) for a given DataFrame.\"\"\"\n",
    "    high_low = df['High'] - df['Low']\n",
    "    high_close = abs(df['High'] - df['Close'].shift())\n",
    "    low_close = abs(df['Low'] - df['Close'].shift())\n",
    "    true_range = pd.concat([high_low, high_close, low_close], axis=1).max(axis=1)\n",
    "    atr = true_range.rolling(window=period).mean()\n",
    "    return atr\n",
    "\n",
    "def add_features(df):\n",
    "    \"\"\"Add features like day of the week, ATR, and EMAs to the DataFrame.\"\"\"\n",
    "\n",
    "    # Calculate Price Change Value\n",
    "    df['PriceChange'] = df['Close'].diff()\n",
    "    # Calculate Price Change Percentage\n",
    "    df['PriceChangePct'] = df['Close'].pct_change() * 100\n",
    "\n",
    "    # Add day of the week (0 = Monday, 6 = Sunday)\n",
    "    df['Datetime'] = pd.to_datetime(df['Datetime'])\n",
    "    df['DayOfWeek'] = df['Datetime'].dt.dayofweek\n",
    "    \n",
    "    # Calculate ATR (Average True Range)\n",
    "    df['ATR'] = calculate_atr(df)\n",
    "    \n",
    "    # Calculate EMAs (Exponential Moving Averages)\n",
    "    df['EMA_20'] = df['Close'].ewm(span=20, adjust=False).mean()\n",
    "    df['EMA_50'] = df['Close'].ewm(span=50, adjust=False).mean()\n",
    "    df['EMA_100'] = df['Close'].ewm(span=100, adjust=False).mean()\n",
    "    df['EMA_200'] = df['Close'].ewm(span=200, adjust=False).mean()\n",
    "\n",
    "    # Calculate rolling volatility\n",
    "    df['volatility'] = df['PriceChange'].rolling(window=20).std()\n",
    "\n",
    "    # Define regimes\n",
    "    df['regime'] = np.where(df['volatility'] > 3, 'high_vol', 'low_vol')\n",
    "        \n",
    "    return df\n",
    "\n",
    "df = pd.read_csv('..\\\\data\\\\gold\\\\M15_202012161445_202503131615.csv')\n",
    "features = add_features(df)\n",
    "\n",
    "# Drop first Rows so we have valid features\n",
    "features.drop(df.index[:221], inplace=True)\n",
    "\n",
    "# Save full data\n",
    "features.set_index('Datetime', inplace=True)\n",
    "features.to_csv('..\\\\data\\\\M15_full.csv')"
   ]
  }
 ],
 "metadata": {
  "kernelspec": {
   "display_name": ".env",
   "language": "python",
   "name": "python3"
  },
  "language_info": {
   "codemirror_mode": {
    "name": "ipython",
    "version": 3
   },
   "file_extension": ".py",
   "mimetype": "text/x-python",
   "name": "python",
   "nbconvert_exporter": "python",
   "pygments_lexer": "ipython3",
   "version": "3.13.2"
  }
 },
 "nbformat": 4,
 "nbformat_minor": 2
}
