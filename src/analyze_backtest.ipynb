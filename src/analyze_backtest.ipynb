{
 "cells": [
  {
   "cell_type": "code",
   "execution_count": null,
   "metadata": {},
   "outputs": [],
   "source": [
    "import pandas as pd\n",
    "\n",
    "def load_backtest_data(file_path):\n",
    "    \"\"\"Loads backtest data and prepares it for model training.\"\"\"\n",
    "    df = pd.read_csv(file_path)\n",
    "    df.dropna(inplace=True)  # Remove missing values\n",
    "    return df\n",
    "\n",
    "df = load_backtest_data(\"backtest_results.csv\")"
   ]
  },
  {
   "cell_type": "code",
   "execution_count": null,
   "metadata": {},
   "outputs": [],
   "source": [
    "from sklearn.ensemble import RandomForestClassifier\n",
    "import joblib\n",
    "\n",
    "def train_random_forest(df):\n",
    "    \"\"\"Trains a Random Forest model to classify profitable vs. losing trades.\"\"\"\n",
    "    X = df.drop(columns=[\"trade_outcome\"])  # Features\n",
    "    y = df[\"trade_outcome\"]  # Target\n",
    "\n",
    "    rf = RandomForestClassifier(n_estimators=100, random_state=42)\n",
    "    rf.fit(X, y)\n",
    "\n",
    "    joblib.dump(rf, \"random_forest_model.pkl\")  # Save model\n",
    "    return rf\n",
    "\n",
    "rf_model = train_random_forest(df)\n"
   ]
  },
  {
   "cell_type": "code",
   "execution_count": null,
   "metadata": {},
   "outputs": [],
   "source": [
    "importances = rf_model.feature_importances_\n",
    "feature_importance_df = pd.DataFrame({\"feature\": X.columns, \"importance\": importances}).sort_values(by=\"importance\", ascending=False)\n",
    "feature_importance_df.to_csv(\"feature_importance.csv\", index=False)"
   ]
  },
  {
   "cell_type": "code",
   "execution_count": null,
   "metadata": {},
   "outputs": [],
   "source": [
    "def filter_trade(trade_features):\n",
    "    \"\"\"Uses trained model to filter out high-risk trades.\"\"\"\n",
    "    rf_model = joblib.load(\"random_forest_model.pkl\")\n",
    "    prediction = rf_model.predict([trade_features])\n",
    "    return prediction[0]  # 1 = Good Trade, 0 = High-Risk Trade"
   ]
  }
 ],
 "metadata": {
  "kernelspec": {
   "display_name": ".env",
   "language": "python",
   "name": "python3"
  },
  "language_info": {
   "name": "python",
   "version": "3.13.2"
  }
 },
 "nbformat": 4,
 "nbformat_minor": 2
}
