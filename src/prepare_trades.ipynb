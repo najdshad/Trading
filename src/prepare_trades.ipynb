{
 "cells": [
  {
   "cell_type": "code",
   "execution_count": 18,
   "metadata": {},
   "outputs": [],
   "source": [
    "import pandas as pd\n",
    "from bs4 import BeautifulSoup\n",
    "import csv"
   ]
  },
  {
   "cell_type": "markdown",
   "metadata": {},
   "source": [
    "HTML PARSER"
   ]
  },
  {
   "cell_type": "code",
   "execution_count": 2,
   "metadata": {},
   "outputs": [
    {
     "name": "stdout",
     "output_type": "stream",
     "text": [
      "Data has been successfully written to deals.csv\n"
     ]
    }
   ],
   "source": [
    "# Read the HTML content (assuming it's saved as 'cc.html')\n",
    "with open('..\\\\data\\\\backtest_results.html', 'r', encoding='utf-8') as file:\n",
    "    html_content = file.read()\n",
    "\n",
    "# Parse HTML with BeautifulSoup\n",
    "soup = BeautifulSoup(html_content, 'html.parser')\n",
    "\n",
    "# Find the table\n",
    "table = soup.find('table')\n",
    "\n",
    "# Extract headers\n",
    "headers = []\n",
    "header_row = table.find('tr', bgcolor=\"#E5F0FC\")  # Find the header row by its background color\n",
    "for th in header_row.find_all('td'):\n",
    "    headers.append(th.text.strip())\n",
    "\n",
    "# Extract data rows\n",
    "data_rows = []\n",
    "for tr in table.find_all('tr')[2:-2]:  # Skip header rows and footer rows\n",
    "    row = []\n",
    "    for td in tr.find_all('td'):\n",
    "        row.append(td.text.strip())\n",
    "    data_rows.append(row)\n",
    "\n",
    "# Write to CSV\n",
    "output_file = 'deals.csv'\n",
    "with open(output_file, 'w', newline='', encoding='utf-8') as csvfile:\n",
    "    writer = csv.writer(csvfile)\n",
    "    \n",
    "    # Write headers\n",
    "    writer.writerow(headers)\n",
    "    \n",
    "    # Write data rows\n",
    "    writer.writerows(data_rows)\n",
    "\n",
    "print(f\"Data has been successfully written to {output_file}\")"
   ]
  },
  {
   "cell_type": "code",
   "execution_count": 10,
   "metadata": {},
   "outputs": [
    {
     "data": {
      "application/vnd.microsoft.datawrangler.viewer.v0+json": {
       "columns": [
        {
         "name": "Num",
         "rawType": "int64",
         "type": "integer"
        },
        {
         "name": "Date",
         "rawType": "datetime64[ns]",
         "type": "datetime"
        },
        {
         "name": "Type",
         "rawType": "object",
         "type": "string"
        },
        {
         "name": "Direction",
         "rawType": "object",
         "type": "string"
        },
        {
         "name": "Volume",
         "rawType": "float64",
         "type": "float"
        },
        {
         "name": "Price",
         "rawType": "float64",
         "type": "float"
        },
        {
         "name": "Commission",
         "rawType": "float64",
         "type": "float"
        },
        {
         "name": "Profit",
         "rawType": "object",
         "type": "string"
        },
        {
         "name": "Balance",
         "rawType": "object",
         "type": "string"
        },
        {
         "name": "Comment",
         "rawType": "object",
         "type": "unknown"
        }
       ],
       "conversionMethod": "pd.DataFrame",
       "ref": "d0bbe727-40b3-45ff-9277-8e5d5fffa4e1",
       "rows": [
        [
         "2",
         "2023-02-07 14:07:46",
         "sell",
         "in",
         "0.28",
         "1869.69",
         "-0.84",
         "0.00",
         "9 999.16",
         null
        ],
        [
         "3",
         "2023-02-07 17:36:04",
         "buy",
         "out",
         "0.28",
         "1872.34",
         "0.0",
         "-74.20",
         "9 924.96",
         "sl 1872.32"
        ],
        [
         "4",
         "2023-02-09 03:09:41",
         "sell",
         "in",
         "0.27",
         "1872.45",
         "-0.81",
         "0.00",
         "9 924.15",
         null
        ],
        [
         "5",
         "2023-02-09 03:37:37",
         "buy",
         "out",
         "0.27",
         "1876.1",
         "0.0",
         "-98.55",
         "9 825.60",
         "sl 1876.10"
        ],
        [
         "6",
         "2023-02-09 10:45:19",
         "buy",
         "in",
         "0.15",
         "1884.6",
         "-0.45",
         "0.00",
         "9 825.15",
         null
        ]
       ],
       "shape": {
        "columns": 9,
        "rows": 5
       }
      },
      "text/html": [
       "<div>\n",
       "<style scoped>\n",
       "    .dataframe tbody tr th:only-of-type {\n",
       "        vertical-align: middle;\n",
       "    }\n",
       "\n",
       "    .dataframe tbody tr th {\n",
       "        vertical-align: top;\n",
       "    }\n",
       "\n",
       "    .dataframe thead th {\n",
       "        text-align: right;\n",
       "    }\n",
       "</style>\n",
       "<table border=\"1\" class=\"dataframe\">\n",
       "  <thead>\n",
       "    <tr style=\"text-align: right;\">\n",
       "      <th></th>\n",
       "      <th>Date</th>\n",
       "      <th>Type</th>\n",
       "      <th>Direction</th>\n",
       "      <th>Volume</th>\n",
       "      <th>Price</th>\n",
       "      <th>Commission</th>\n",
       "      <th>Profit</th>\n",
       "      <th>Balance</th>\n",
       "      <th>Comment</th>\n",
       "    </tr>\n",
       "    <tr>\n",
       "      <th>Num</th>\n",
       "      <th></th>\n",
       "      <th></th>\n",
       "      <th></th>\n",
       "      <th></th>\n",
       "      <th></th>\n",
       "      <th></th>\n",
       "      <th></th>\n",
       "      <th></th>\n",
       "      <th></th>\n",
       "    </tr>\n",
       "  </thead>\n",
       "  <tbody>\n",
       "    <tr>\n",
       "      <th>2</th>\n",
       "      <td>2023-02-07 14:07:46</td>\n",
       "      <td>sell</td>\n",
       "      <td>in</td>\n",
       "      <td>0.28</td>\n",
       "      <td>1869.69</td>\n",
       "      <td>-0.84</td>\n",
       "      <td>0.00</td>\n",
       "      <td>9 999.16</td>\n",
       "      <td>NaN</td>\n",
       "    </tr>\n",
       "    <tr>\n",
       "      <th>3</th>\n",
       "      <td>2023-02-07 17:36:04</td>\n",
       "      <td>buy</td>\n",
       "      <td>out</td>\n",
       "      <td>0.28</td>\n",
       "      <td>1872.34</td>\n",
       "      <td>0.00</td>\n",
       "      <td>-74.20</td>\n",
       "      <td>9 924.96</td>\n",
       "      <td>sl 1872.32</td>\n",
       "    </tr>\n",
       "    <tr>\n",
       "      <th>4</th>\n",
       "      <td>2023-02-09 03:09:41</td>\n",
       "      <td>sell</td>\n",
       "      <td>in</td>\n",
       "      <td>0.27</td>\n",
       "      <td>1872.45</td>\n",
       "      <td>-0.81</td>\n",
       "      <td>0.00</td>\n",
       "      <td>9 924.15</td>\n",
       "      <td>NaN</td>\n",
       "    </tr>\n",
       "    <tr>\n",
       "      <th>5</th>\n",
       "      <td>2023-02-09 03:37:37</td>\n",
       "      <td>buy</td>\n",
       "      <td>out</td>\n",
       "      <td>0.27</td>\n",
       "      <td>1876.10</td>\n",
       "      <td>0.00</td>\n",
       "      <td>-98.55</td>\n",
       "      <td>9 825.60</td>\n",
       "      <td>sl 1876.10</td>\n",
       "    </tr>\n",
       "    <tr>\n",
       "      <th>6</th>\n",
       "      <td>2023-02-09 10:45:19</td>\n",
       "      <td>buy</td>\n",
       "      <td>in</td>\n",
       "      <td>0.15</td>\n",
       "      <td>1884.60</td>\n",
       "      <td>-0.45</td>\n",
       "      <td>0.00</td>\n",
       "      <td>9 825.15</td>\n",
       "      <td>NaN</td>\n",
       "    </tr>\n",
       "  </tbody>\n",
       "</table>\n",
       "</div>"
      ],
      "text/plain": [
       "                   Date  Type Direction  Volume    Price  Commission  Profit  \\\n",
       "Num                                                                            \n",
       "2   2023-02-07 14:07:46  sell        in    0.28  1869.69       -0.84    0.00   \n",
       "3   2023-02-07 17:36:04   buy       out    0.28  1872.34        0.00  -74.20   \n",
       "4   2023-02-09 03:09:41  sell        in    0.27  1872.45       -0.81    0.00   \n",
       "5   2023-02-09 03:37:37   buy       out    0.27  1876.10        0.00  -98.55   \n",
       "6   2023-02-09 10:45:19   buy        in    0.15  1884.60       -0.45    0.00   \n",
       "\n",
       "      Balance     Comment  \n",
       "Num                        \n",
       "2    9 999.16         NaN  \n",
       "3    9 924.96  sl 1872.32  \n",
       "4    9 924.15         NaN  \n",
       "5    9 825.60  sl 1876.10  \n",
       "6    9 825.15         NaN  "
      ]
     },
     "execution_count": 10,
     "metadata": {},
     "output_type": "execute_result"
    }
   ],
   "source": [
    "# Load backtest results\n",
    "file_path = 'deals.csv'  # Update with your actual file path\n",
    "data = pd.read_csv(file_path)\n",
    "\n",
    "# Ensure datetime format if there's a timestamp column\n",
    "if 'Date' in data.columns:\n",
    "    data['Date'] = pd.to_datetime(data['Date'])\n",
    "    data.set_index('Num', inplace=True)\n",
    "\n",
    "data.drop(columns=['Swap', 'Symbol', 'Order'], inplace=True)\n",
    "\n",
    "# Inspect the data\n",
    "data.head()"
   ]
  },
  {
   "cell_type": "code",
   "execution_count": null,
   "metadata": {},
   "outputs": [
    {
     "data": {
      "application/vnd.microsoft.datawrangler.viewer.v0+json": {
       "columns": [
        {
         "name": "Num",
         "rawType": "int64",
         "type": "integer"
        },
        {
         "name": "Date",
         "rawType": "datetime64[ns]",
         "type": "datetime"
        },
        {
         "name": "Type",
         "rawType": "object",
         "type": "string"
        },
        {
         "name": "Direction",
         "rawType": "object",
         "type": "string"
        },
        {
         "name": "Volume",
         "rawType": "float64",
         "type": "float"
        },
        {
         "name": "Price",
         "rawType": "float64",
         "type": "float"
        },
        {
         "name": "Commission",
         "rawType": "float64",
         "type": "float"
        },
        {
         "name": "Profit",
         "rawType": "object",
         "type": "string"
        },
        {
         "name": "Balance",
         "rawType": "object",
         "type": "string"
        },
        {
         "name": "Comment",
         "rawType": "object",
         "type": "unknown"
        }
       ],
       "conversionMethod": "pd.DataFrame",
       "ref": "06b00c25-f9ad-41a7-91b1-ac2de6e1ee6a",
       "rows": [
        [
         "2",
         "2023-02-07 14:07:46",
         "sell",
         "in",
         "0.28",
         "1869.69",
         "-0.84",
         "0.00",
         "9 999.16",
         null
        ],
        [
         "3",
         "2023-02-07 17:36:04",
         "buy",
         "out",
         "0.28",
         "1872.34",
         "0.0",
         "-74.20",
         "9 924.96",
         "sl 1872.32"
        ],
        [
         "4",
         "2023-02-09 03:09:41",
         "sell",
         "in",
         "0.27",
         "1872.45",
         "-0.81",
         "0.00",
         "9 924.15",
         null
        ],
        [
         "5",
         "2023-02-09 03:37:37",
         "buy",
         "out",
         "0.27",
         "1876.1",
         "0.0",
         "-98.55",
         "9 825.60",
         "sl 1876.10"
        ],
        [
         "6",
         "2023-02-09 10:45:19",
         "buy",
         "in",
         "0.15",
         "1884.6",
         "-0.45",
         "0.00",
         "9 825.15",
         null
        ]
       ],
       "shape": {
        "columns": 9,
        "rows": 5
       }
      },
      "text/html": [
       "<div>\n",
       "<style scoped>\n",
       "    .dataframe tbody tr th:only-of-type {\n",
       "        vertical-align: middle;\n",
       "    }\n",
       "\n",
       "    .dataframe tbody tr th {\n",
       "        vertical-align: top;\n",
       "    }\n",
       "\n",
       "    .dataframe thead th {\n",
       "        text-align: right;\n",
       "    }\n",
       "</style>\n",
       "<table border=\"1\" class=\"dataframe\">\n",
       "  <thead>\n",
       "    <tr style=\"text-align: right;\">\n",
       "      <th></th>\n",
       "      <th>Date</th>\n",
       "      <th>Type</th>\n",
       "      <th>Direction</th>\n",
       "      <th>Volume</th>\n",
       "      <th>Price</th>\n",
       "      <th>Commission</th>\n",
       "      <th>Profit</th>\n",
       "      <th>Balance</th>\n",
       "      <th>Comment</th>\n",
       "    </tr>\n",
       "    <tr>\n",
       "      <th>Num</th>\n",
       "      <th></th>\n",
       "      <th></th>\n",
       "      <th></th>\n",
       "      <th></th>\n",
       "      <th></th>\n",
       "      <th></th>\n",
       "      <th></th>\n",
       "      <th></th>\n",
       "      <th></th>\n",
       "    </tr>\n",
       "  </thead>\n",
       "  <tbody>\n",
       "    <tr>\n",
       "      <th>2</th>\n",
       "      <td>2023-02-07 14:07:46</td>\n",
       "      <td>sell</td>\n",
       "      <td>in</td>\n",
       "      <td>0.28</td>\n",
       "      <td>1869.69</td>\n",
       "      <td>-0.84</td>\n",
       "      <td>0.00</td>\n",
       "      <td>9 999.16</td>\n",
       "      <td>NaN</td>\n",
       "    </tr>\n",
       "    <tr>\n",
       "      <th>3</th>\n",
       "      <td>2023-02-07 17:36:04</td>\n",
       "      <td>buy</td>\n",
       "      <td>out</td>\n",
       "      <td>0.28</td>\n",
       "      <td>1872.34</td>\n",
       "      <td>0.00</td>\n",
       "      <td>-74.20</td>\n",
       "      <td>9 924.96</td>\n",
       "      <td>sl 1872.32</td>\n",
       "    </tr>\n",
       "    <tr>\n",
       "      <th>4</th>\n",
       "      <td>2023-02-09 03:09:41</td>\n",
       "      <td>sell</td>\n",
       "      <td>in</td>\n",
       "      <td>0.27</td>\n",
       "      <td>1872.45</td>\n",
       "      <td>-0.81</td>\n",
       "      <td>0.00</td>\n",
       "      <td>9 924.15</td>\n",
       "      <td>NaN</td>\n",
       "    </tr>\n",
       "    <tr>\n",
       "      <th>5</th>\n",
       "      <td>2023-02-09 03:37:37</td>\n",
       "      <td>buy</td>\n",
       "      <td>out</td>\n",
       "      <td>0.27</td>\n",
       "      <td>1876.10</td>\n",
       "      <td>0.00</td>\n",
       "      <td>-98.55</td>\n",
       "      <td>9 825.60</td>\n",
       "      <td>sl 1876.10</td>\n",
       "    </tr>\n",
       "    <tr>\n",
       "      <th>6</th>\n",
       "      <td>2023-02-09 10:45:19</td>\n",
       "      <td>buy</td>\n",
       "      <td>in</td>\n",
       "      <td>0.15</td>\n",
       "      <td>1884.60</td>\n",
       "      <td>-0.45</td>\n",
       "      <td>0.00</td>\n",
       "      <td>9 825.15</td>\n",
       "      <td>NaN</td>\n",
       "    </tr>\n",
       "  </tbody>\n",
       "</table>\n",
       "</div>"
      ],
      "text/plain": [
       "                   Date  Type Direction  Volume    Price  Commission  Profit  \\\n",
       "Num                                                                            \n",
       "2   2023-02-07 14:07:46  sell        in    0.28  1869.69       -0.84    0.00   \n",
       "3   2023-02-07 17:36:04   buy       out    0.28  1872.34        0.00  -74.20   \n",
       "4   2023-02-09 03:09:41  sell        in    0.27  1872.45       -0.81    0.00   \n",
       "5   2023-02-09 03:37:37   buy       out    0.27  1876.10        0.00  -98.55   \n",
       "6   2023-02-09 10:45:19   buy        in    0.15  1884.60       -0.45    0.00   \n",
       "\n",
       "      Balance     Comment  \n",
       "Num                        \n",
       "2    9 999.16         NaN  \n",
       "3    9 924.96  sl 1872.32  \n",
       "4    9 924.15         NaN  \n",
       "5    9 825.60  sl 1876.10  \n",
       "6    9 825.15         NaN  "
      ]
     },
     "execution_count": 11,
     "metadata": {},
     "output_type": "execute_result"
    }
   ],
   "source": [
    "# Clean numeric columns (remove spaces and convert to float)\n",
    "numeric_cols = ['Price', 'Commission', 'Profit', 'Balance']\n",
    "data[numeric_cols] = data[numeric_cols].astype(str).apply(lambda x: x.str.replace(' ', '').astype(float))\n",
    "# Convert 'Date' to datetime\n",
    "data['Date'] = pd.to_datetime(data['Date'])\n",
    "data.head()"
   ]
  },
  {
   "cell_type": "markdown",
   "metadata": {},
   "source": [
    "Pair Entry and Exit Trades"
   ]
  },
  {
   "cell_type": "code",
   "execution_count": 25,
   "metadata": {},
   "outputs": [],
   "source": [
    "trades = []\n",
    "\n",
    "# Iterate through pairs of rows (entry 'in' and exit 'out')\n",
    "for i in range(0, len(data)-1, 2):\n",
    "    entry = data.iloc[i]\n",
    "    exit = data.iloc[i+1]\n",
    "    \n",
    "    if entry['Direction'] == 'in' and exit['Direction'] == 'out':\n",
    "        trade = {\n",
    "            'EntryDate': entry['Date'],\n",
    "            'ExitDate': exit['Date'],\n",
    "            'Type': entry['Type'],\n",
    "            'Volume': entry['Volume'],\n",
    "            'EntryPrice': entry['Price'],\n",
    "            'ExitPrice': exit['Price'],\n",
    "            'Profit': exit['Profit'],\n",
    "            'Balance': exit['Balance'],\n",
    "            'StopLoss': 'sl' in str(exit['Comment']).lower(),\n",
    "            'Duration': round((exit['Date'] - entry['Date']).total_seconds() / 60, 2)  # in minutes\n",
    "        }\n",
    "        trades.append(trade)\n",
    "\n",
    "trades_df = pd.DataFrame(trades)\n",
    "\n",
    "# Clean numeric columns (remove spaces and convert to float)\n",
    "numeric_cols = ['Volume', 'EntryPrice', 'ExitPrice', 'Profit', 'Balance']\n",
    "trades_df[numeric_cols] = trades_df[numeric_cols].astype(str).apply(lambda x: x.str.replace(' ', '').astype(float))\n",
    "\n",
    "trades_df.to_csv('trades.csv')"
   ]
  },
  {
   "cell_type": "markdown",
   "metadata": {},
   "source": [
    "Feature Engineering"
   ]
  },
  {
   "cell_type": "code",
   "execution_count": null,
   "metadata": {},
   "outputs": [],
   "source": []
  }
 ],
 "metadata": {
  "kernelspec": {
   "display_name": ".env",
   "language": "python",
   "name": "python3"
  },
  "language_info": {
   "codemirror_mode": {
    "name": "ipython",
    "version": 3
   },
   "file_extension": ".py",
   "mimetype": "text/x-python",
   "name": "python",
   "nbconvert_exporter": "python",
   "pygments_lexer": "ipython3",
   "version": "3.13.2"
  }
 },
 "nbformat": 4,
 "nbformat_minor": 2
}
