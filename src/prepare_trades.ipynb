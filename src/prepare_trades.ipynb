{
 "cells": [
  {
   "cell_type": "code",
   "execution_count": 1,
   "metadata": {},
   "outputs": [],
   "source": [
    "import pandas as pd"
   ]
  },
  {
   "cell_type": "code",
   "execution_count": 2,
   "metadata": {},
   "outputs": [
    {
     "data": {
      "application/vnd.microsoft.datawrangler.viewer.v0+json": {
       "columns": [
        {
         "name": "Num",
         "rawType": "int64",
         "type": "integer"
        },
        {
         "name": "Date",
         "rawType": "datetime64[ns]",
         "type": "datetime"
        },
        {
         "name": "Type",
         "rawType": "object",
         "type": "string"
        },
        {
         "name": "Direction",
         "rawType": "object",
         "type": "string"
        },
        {
         "name": "Volume",
         "rawType": "float64",
         "type": "float"
        },
        {
         "name": "Price",
         "rawType": "object",
         "type": "string"
        },
        {
         "name": "Commission",
         "rawType": "object",
         "type": "string"
        },
        {
         "name": "Profit",
         "rawType": "object",
         "type": "string"
        },
        {
         "name": "Balance",
         "rawType": "object",
         "type": "string"
        },
        {
         "name": "Comment",
         "rawType": "object",
         "type": "unknown"
        }
       ],
       "conversionMethod": "pd.DataFrame",
       "ref": "2bcf27be-662c-408d-81dc-1db3084ead0b",
       "rows": [
        [
         "1",
         "2023-01-03 01:00:39",
         "buy",
         "in",
         "0.96",
         "1 828.67",
         "- 2.88",
         "0.00",
         "99 997.12",
         null
        ],
        [
         "2",
         "2023-01-03 13:00:02",
         "sell",
         "out",
         "0.96",
         "1 834.42",
         "0.00",
         " 552.00",
         "100 549.12",
         null
        ],
        [
         "3",
         "2023-01-03 15:17:31",
         "buy",
         "in",
         "1.31",
         "1 838.97",
         "- 3.93",
         "0.00",
         "100 545.19",
         null
        ],
        [
         "4",
         "2023-01-03 17:28:39",
         "sell",
         "out",
         "1.31",
         "1 832.77",
         "0.00",
         "- 812.20",
         "99 732.99",
         "sl 1832.77"
        ],
        [
         "5",
         "2023-01-03 17:28:44",
         "buy",
         "in",
         "26.64",
         "1 833.00",
         "- 79.92",
         "0.00",
         "99 653.07",
         null
        ]
       ],
       "shape": {
        "columns": 9,
        "rows": 5
       }
      },
      "text/html": [
       "<div>\n",
       "<style scoped>\n",
       "    .dataframe tbody tr th:only-of-type {\n",
       "        vertical-align: middle;\n",
       "    }\n",
       "\n",
       "    .dataframe tbody tr th {\n",
       "        vertical-align: top;\n",
       "    }\n",
       "\n",
       "    .dataframe thead th {\n",
       "        text-align: right;\n",
       "    }\n",
       "</style>\n",
       "<table border=\"1\" class=\"dataframe\">\n",
       "  <thead>\n",
       "    <tr style=\"text-align: right;\">\n",
       "      <th></th>\n",
       "      <th>Date</th>\n",
       "      <th>Type</th>\n",
       "      <th>Direction</th>\n",
       "      <th>Volume</th>\n",
       "      <th>Price</th>\n",
       "      <th>Commission</th>\n",
       "      <th>Profit</th>\n",
       "      <th>Balance</th>\n",
       "      <th>Comment</th>\n",
       "    </tr>\n",
       "    <tr>\n",
       "      <th>Num</th>\n",
       "      <th></th>\n",
       "      <th></th>\n",
       "      <th></th>\n",
       "      <th></th>\n",
       "      <th></th>\n",
       "      <th></th>\n",
       "      <th></th>\n",
       "      <th></th>\n",
       "      <th></th>\n",
       "    </tr>\n",
       "  </thead>\n",
       "  <tbody>\n",
       "    <tr>\n",
       "      <th>1</th>\n",
       "      <td>2023-01-03 01:00:39</td>\n",
       "      <td>buy</td>\n",
       "      <td>in</td>\n",
       "      <td>0.96</td>\n",
       "      <td>1 828.67</td>\n",
       "      <td>- 2.88</td>\n",
       "      <td>0.00</td>\n",
       "      <td>99 997.12</td>\n",
       "      <td>NaN</td>\n",
       "    </tr>\n",
       "    <tr>\n",
       "      <th>2</th>\n",
       "      <td>2023-01-03 13:00:02</td>\n",
       "      <td>sell</td>\n",
       "      <td>out</td>\n",
       "      <td>0.96</td>\n",
       "      <td>1 834.42</td>\n",
       "      <td>0.00</td>\n",
       "      <td>552.00</td>\n",
       "      <td>100 549.12</td>\n",
       "      <td>NaN</td>\n",
       "    </tr>\n",
       "    <tr>\n",
       "      <th>3</th>\n",
       "      <td>2023-01-03 15:17:31</td>\n",
       "      <td>buy</td>\n",
       "      <td>in</td>\n",
       "      <td>1.31</td>\n",
       "      <td>1 838.97</td>\n",
       "      <td>- 3.93</td>\n",
       "      <td>0.00</td>\n",
       "      <td>100 545.19</td>\n",
       "      <td>NaN</td>\n",
       "    </tr>\n",
       "    <tr>\n",
       "      <th>4</th>\n",
       "      <td>2023-01-03 17:28:39</td>\n",
       "      <td>sell</td>\n",
       "      <td>out</td>\n",
       "      <td>1.31</td>\n",
       "      <td>1 832.77</td>\n",
       "      <td>0.00</td>\n",
       "      <td>- 812.20</td>\n",
       "      <td>99 732.99</td>\n",
       "      <td>sl 1832.77</td>\n",
       "    </tr>\n",
       "    <tr>\n",
       "      <th>5</th>\n",
       "      <td>2023-01-03 17:28:44</td>\n",
       "      <td>buy</td>\n",
       "      <td>in</td>\n",
       "      <td>26.64</td>\n",
       "      <td>1 833.00</td>\n",
       "      <td>- 79.92</td>\n",
       "      <td>0.00</td>\n",
       "      <td>99 653.07</td>\n",
       "      <td>NaN</td>\n",
       "    </tr>\n",
       "  </tbody>\n",
       "</table>\n",
       "</div>"
      ],
      "text/plain": [
       "                   Date  Type Direction  Volume     Price Commission  \\\n",
       "Num                                                                    \n",
       "1   2023-01-03 01:00:39   buy        in    0.96  1 828.67     - 2.88   \n",
       "2   2023-01-03 13:00:02  sell       out    0.96  1 834.42       0.00   \n",
       "3   2023-01-03 15:17:31   buy        in    1.31  1 838.97     - 3.93   \n",
       "4   2023-01-03 17:28:39  sell       out    1.31  1 832.77       0.00   \n",
       "5   2023-01-03 17:28:44   buy        in   26.64  1 833.00    - 79.92   \n",
       "\n",
       "       Profit     Balance     Comment  \n",
       "Num                                    \n",
       "1        0.00   99 997.12         NaN  \n",
       "2      552.00  100 549.12         NaN  \n",
       "3        0.00  100 545.19         NaN  \n",
       "4    - 812.20   99 732.99  sl 1832.77  \n",
       "5        0.00   99 653.07         NaN  "
      ]
     },
     "execution_count": 2,
     "metadata": {},
     "output_type": "execute_result"
    }
   ],
   "source": [
    "# Load backtest results\n",
    "file_path = '..\\\\data\\\\backtest_results.csv'  # Update with your actual file path\n",
    "data = pd.read_csv(file_path)\n",
    "\n",
    "# Ensure datetime format if there's a timestamp column\n",
    "if 'Date' in data.columns:\n",
    "    data['Date'] = pd.to_datetime(data['Date'])\n",
    "    data.set_index('Num', inplace=True)\n",
    "\n",
    "data.drop(columns=['Swap', 'Symbol', 'Order', 'Unnamed: 0'], inplace=True)\n",
    "\n",
    "# Inspect the data\n",
    "data.head()"
   ]
  },
  {
   "cell_type": "code",
   "execution_count": 3,
   "metadata": {},
   "outputs": [
    {
     "data": {
      "application/vnd.microsoft.datawrangler.viewer.v0+json": {
       "columns": [
        {
         "name": "Num",
         "rawType": "int64",
         "type": "integer"
        },
        {
         "name": "Date",
         "rawType": "datetime64[ns]",
         "type": "datetime"
        },
        {
         "name": "Type",
         "rawType": "object",
         "type": "string"
        },
        {
         "name": "Direction",
         "rawType": "object",
         "type": "string"
        },
        {
         "name": "Volume",
         "rawType": "float64",
         "type": "float"
        },
        {
         "name": "Price",
         "rawType": "float64",
         "type": "float"
        },
        {
         "name": "Commission",
         "rawType": "float64",
         "type": "float"
        },
        {
         "name": "Profit",
         "rawType": "float64",
         "type": "float"
        },
        {
         "name": "Balance",
         "rawType": "float64",
         "type": "float"
        },
        {
         "name": "Comment",
         "rawType": "object",
         "type": "unknown"
        }
       ],
       "conversionMethod": "pd.DataFrame",
       "ref": "e38f2984-e8a5-4e44-8a3e-17f88873542a",
       "rows": [
        [
         "1",
         "2023-01-03 01:00:39",
         "buy",
         "in",
         "0.96",
         "1828.67",
         "-2.88",
         "0.0",
         "99997.12",
         null
        ],
        [
         "2",
         "2023-01-03 13:00:02",
         "sell",
         "out",
         "0.96",
         "1834.42",
         "0.0",
         "552.0",
         "100549.12",
         null
        ],
        [
         "3",
         "2023-01-03 15:17:31",
         "buy",
         "in",
         "1.31",
         "1838.97",
         "-3.93",
         "0.0",
         "100545.19",
         null
        ],
        [
         "4",
         "2023-01-03 17:28:39",
         "sell",
         "out",
         "1.31",
         "1832.77",
         "0.0",
         "-812.2",
         "99732.99",
         "sl 1832.77"
        ],
        [
         "5",
         "2023-01-03 17:28:44",
         "buy",
         "in",
         "26.64",
         "1833.0",
         "-79.92",
         "0.0",
         "99653.07",
         null
        ]
       ],
       "shape": {
        "columns": 9,
        "rows": 5
       }
      },
      "text/html": [
       "<div>\n",
       "<style scoped>\n",
       "    .dataframe tbody tr th:only-of-type {\n",
       "        vertical-align: middle;\n",
       "    }\n",
       "\n",
       "    .dataframe tbody tr th {\n",
       "        vertical-align: top;\n",
       "    }\n",
       "\n",
       "    .dataframe thead th {\n",
       "        text-align: right;\n",
       "    }\n",
       "</style>\n",
       "<table border=\"1\" class=\"dataframe\">\n",
       "  <thead>\n",
       "    <tr style=\"text-align: right;\">\n",
       "      <th></th>\n",
       "      <th>Date</th>\n",
       "      <th>Type</th>\n",
       "      <th>Direction</th>\n",
       "      <th>Volume</th>\n",
       "      <th>Price</th>\n",
       "      <th>Commission</th>\n",
       "      <th>Profit</th>\n",
       "      <th>Balance</th>\n",
       "      <th>Comment</th>\n",
       "    </tr>\n",
       "    <tr>\n",
       "      <th>Num</th>\n",
       "      <th></th>\n",
       "      <th></th>\n",
       "      <th></th>\n",
       "      <th></th>\n",
       "      <th></th>\n",
       "      <th></th>\n",
       "      <th></th>\n",
       "      <th></th>\n",
       "      <th></th>\n",
       "    </tr>\n",
       "  </thead>\n",
       "  <tbody>\n",
       "    <tr>\n",
       "      <th>1</th>\n",
       "      <td>2023-01-03 01:00:39</td>\n",
       "      <td>buy</td>\n",
       "      <td>in</td>\n",
       "      <td>0.96</td>\n",
       "      <td>1828.67</td>\n",
       "      <td>-2.88</td>\n",
       "      <td>0.0</td>\n",
       "      <td>99997.12</td>\n",
       "      <td>NaN</td>\n",
       "    </tr>\n",
       "    <tr>\n",
       "      <th>2</th>\n",
       "      <td>2023-01-03 13:00:02</td>\n",
       "      <td>sell</td>\n",
       "      <td>out</td>\n",
       "      <td>0.96</td>\n",
       "      <td>1834.42</td>\n",
       "      <td>0.00</td>\n",
       "      <td>552.0</td>\n",
       "      <td>100549.12</td>\n",
       "      <td>NaN</td>\n",
       "    </tr>\n",
       "    <tr>\n",
       "      <th>3</th>\n",
       "      <td>2023-01-03 15:17:31</td>\n",
       "      <td>buy</td>\n",
       "      <td>in</td>\n",
       "      <td>1.31</td>\n",
       "      <td>1838.97</td>\n",
       "      <td>-3.93</td>\n",
       "      <td>0.0</td>\n",
       "      <td>100545.19</td>\n",
       "      <td>NaN</td>\n",
       "    </tr>\n",
       "    <tr>\n",
       "      <th>4</th>\n",
       "      <td>2023-01-03 17:28:39</td>\n",
       "      <td>sell</td>\n",
       "      <td>out</td>\n",
       "      <td>1.31</td>\n",
       "      <td>1832.77</td>\n",
       "      <td>0.00</td>\n",
       "      <td>-812.2</td>\n",
       "      <td>99732.99</td>\n",
       "      <td>sl 1832.77</td>\n",
       "    </tr>\n",
       "    <tr>\n",
       "      <th>5</th>\n",
       "      <td>2023-01-03 17:28:44</td>\n",
       "      <td>buy</td>\n",
       "      <td>in</td>\n",
       "      <td>26.64</td>\n",
       "      <td>1833.00</td>\n",
       "      <td>-79.92</td>\n",
       "      <td>0.0</td>\n",
       "      <td>99653.07</td>\n",
       "      <td>NaN</td>\n",
       "    </tr>\n",
       "  </tbody>\n",
       "</table>\n",
       "</div>"
      ],
      "text/plain": [
       "                   Date  Type Direction  Volume    Price  Commission  Profit  \\\n",
       "Num                                                                            \n",
       "1   2023-01-03 01:00:39   buy        in    0.96  1828.67       -2.88     0.0   \n",
       "2   2023-01-03 13:00:02  sell       out    0.96  1834.42        0.00   552.0   \n",
       "3   2023-01-03 15:17:31   buy        in    1.31  1838.97       -3.93     0.0   \n",
       "4   2023-01-03 17:28:39  sell       out    1.31  1832.77        0.00  -812.2   \n",
       "5   2023-01-03 17:28:44   buy        in   26.64  1833.00      -79.92     0.0   \n",
       "\n",
       "       Balance     Comment  \n",
       "Num                         \n",
       "1     99997.12         NaN  \n",
       "2    100549.12         NaN  \n",
       "3    100545.19         NaN  \n",
       "4     99732.99  sl 1832.77  \n",
       "5     99653.07         NaN  "
      ]
     },
     "execution_count": 3,
     "metadata": {},
     "output_type": "execute_result"
    }
   ],
   "source": [
    "# Clean numeric columns (remove spaces and convert to float)\n",
    "numeric_cols = ['Price', 'Commission', 'Profit', 'Balance']\n",
    "for col in numeric_cols:\n",
    "    data[col] = data[col].str.replace(' ', '').astype(float)\n",
    "    \n",
    "# Convert 'Date' to datetime\n",
    "data['Date'] = pd.to_datetime(data['Date'])\n",
    "data.head()"
   ]
  },
  {
   "cell_type": "markdown",
   "metadata": {},
   "source": [
    "Pair Entry and Exit Trades"
   ]
  },
  {
   "cell_type": "code",
   "execution_count": 4,
   "metadata": {},
   "outputs": [],
   "source": [
    "trades = []\n",
    "\n",
    "# Iterate through pairs of rows (entry 'in' and exit 'out')\n",
    "for i in range(0, len(data)-1, 2):\n",
    "    entry = data.iloc[i]\n",
    "    exit = data.iloc[i+1]\n",
    "    \n",
    "    if entry['Direction'] == 'in' and exit['Direction'] == 'out':\n",
    "        trade = {\n",
    "            'EntryDate': entry['Date'],\n",
    "            'ExitDate': exit['Date'],\n",
    "            'Type': entry['Type'],\n",
    "            'Volume': entry['Volume'],\n",
    "            'EntryPrice': entry['Price'],\n",
    "            'ExitPrice': exit['Price'],\n",
    "            'Profit': exit['Profit'],\n",
    "            'StopLoss': 'sl' in str(exit['Comment']).lower(),\n",
    "            'Duration': (exit['Date'] - entry['Date']).total_seconds() / 60  # in minutes\n",
    "        }\n",
    "        trades.append(trade)\n",
    "\n",
    "trades_df = pd.DataFrame(trades)"
   ]
  },
  {
   "cell_type": "markdown",
   "metadata": {},
   "source": [
    "Feature Engineering"
   ]
  },
  {
   "cell_type": "code",
   "execution_count": 5,
   "metadata": {},
   "outputs": [],
   "source": [
    "# Extract time-based features\n",
    "trades_df['EntryHour'] = trades_df['EntryDate'].dt.hour\n",
    "trades_df['EntryDay'] = trades_df['EntryDate'].dt.day_name()\n",
    "\n",
    "# Calculate return percentage\n",
    "trades_df['ReturnPct'] = trades_df['Profit'] / (trades_df['Volume'] * trades_df['EntryPrice'])\n",
    "\n",
    "trades_df.head()\n",
    "trades_df.to_csv('..\\\\data\\\\trades.csv')"
   ]
  }
 ],
 "metadata": {
  "kernelspec": {
   "display_name": ".env",
   "language": "python",
   "name": "python3"
  },
  "language_info": {
   "codemirror_mode": {
    "name": "ipython",
    "version": 3
   },
   "file_extension": ".py",
   "mimetype": "text/x-python",
   "name": "python",
   "nbconvert_exporter": "python",
   "pygments_lexer": "ipython3",
   "version": "3.13.2"
  }
 },
 "nbformat": 4,
 "nbformat_minor": 2
}
